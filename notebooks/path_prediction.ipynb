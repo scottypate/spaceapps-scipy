{
 "cells": [
  {
   "cell_type": "code",
   "execution_count": 1,
   "metadata": {},
   "outputs": [
    {
     "name": "stderr",
     "output_type": "stream",
     "text": [
      "Using TensorFlow backend.\n"
     ]
    }
   ],
   "source": [
    "%matplotlib inline\n",
    "\n",
    "import os\n",
    "\n",
    "from IPython.display import Image\n",
    "import geopandas\n",
    "import numpy as np\n",
    "import pandas as pd\n",
    "from shapely.geometry import Point\n",
    "from shapely.geometry import LineString\n",
    "import missingno as msn\n",
    "import seaborn as sns\n",
    "import matplotlib.pyplot as plt\n",
    "import geohash2\n",
    "from sklearn import preprocessing\n",
    "from keras.preprocessing.sequence import pad_sequences\n",
    "from keras.optimizers import Adam\n",
    "from keras.models import Sequential\n",
    "from keras.utils import to_categorical\n",
    "from keras.layers.core import Dense, Dropout, Activation, Masking\n",
    "from keras.layers.recurrent import LSTM\n",
    "from keras.layers import Flatten, Embedding"
   ]
  },
  {
   "cell_type": "code",
   "execution_count": 2,
   "metadata": {},
   "outputs": [],
   "source": [
    "# Read in all Atlantic hurricane data\n",
    "hurricanes = pd.read_csv('../data/atlantic_hurricanes.csv')\n",
    "\n",
    "# Create a date column and only use hurricanes since 1990\n",
    "hurricanes['Date'] = pd.to_datetime(hurricanes['Date'], errors='coerce')\n",
    "hurricanes.dropna(inplace=True)\n",
    "hurricanes['year'] = hurricanes['Date'].dt.year.astype(int)\n",
    "hurricanes = hurricanes[hurricanes['year'] >= 1990]\n",
    "hurricanes = hurricanes[hurricanes['Name'] != 'Unnamed']\n",
    "\n",
    "# ETL to make lat/long correct, and convert them to shapely points\n",
    "hurricanes['slug'] = hurricanes['Name'] + '-' + hurricanes['year'].astype(str)\n",
    "hurricanes['Long'] = 0 - hurricanes['Long']\n",
    "hurricanes['coordinates'] = hurricanes[['Long', 'Lat']].values.tolist()\n",
    "hurricanes['coordinates'] = hurricanes['coordinates'].apply(Point)\n",
    "\n",
    "# Extract the movement speed of the hurricane as a feature\n",
    "hurricanes['movement_speed'] = hurricanes['Movement'].str.extract(r'(\\d+)\\s?[mph|MPH]')\n",
    "hurricanes.fillna(value=0, inplace=True)\n",
    "\n",
    "# Create geohashes from the lat/long for use in modeling\n",
    "geohashes = []\n",
    "\n",
    "for index,row in hurricanes.iterrows():\n",
    "    latitude = row['coordinates'].x\n",
    "    longitude = row['coordinates'].y\n",
    "    geohash = geohash2.encode(\n",
    "        latitude=latitude, \n",
    "        longitude=longitude, \n",
    "        precision=5\n",
    "    )\n",
    "    geohashes.append(geohash)\n",
    "    \n",
    "hurricanes['geohash'] = geohashes\n",
    "n_classes = len(set(hurricanes['geohash']))\n",
    "\n",
    "label_encoder = preprocessing.LabelEncoder()\n",
    "min_max_scaler = preprocessing.MinMaxScaler()\n",
    "\n",
    "# Encode the geohash labels as integers\n",
    "hurricanes['encoded_label'] = label_encoder.fit_transform(hurricanes['geohash'])"
   ]
  },
  {
   "cell_type": "code",
   "execution_count": 3,
   "metadata": {},
   "outputs": [],
   "source": [
    "features = ['Lat', 'Long', 'Wind', 'Pres', 'movement_speed']\n",
    "label = 'encoded_label'\n",
    "test_slug = 'Katrina-2005'\n",
    "\n",
    "# Scale the input data between 0-1\n",
    "for feature in features:\n",
    "    values = hurricanes[feature].values\n",
    "    hurricanes[feature] = min_max_scaler.fit_transform(\n",
    "        values.reshape(-1, 1)\n",
    "    )\n",
    "\n",
    "pre_train_x = []\n",
    "pre_train_y = []\n",
    "\n",
    "pre_test_x = []\n",
    "pre_test_y = []\n",
    "\n",
    "# Create tensors of the feature and labels\n",
    "for name, group in hurricanes.groupby('slug'):\n",
    "    temp_df = hurricanes[hurricanes['slug'] == name]\n",
    "    if name == test_slug:\n",
    "        pre_test_x.append(temp_df[features].to_numpy())\n",
    "        pre_test_y.append(temp_df[label].to_numpy())\n",
    "    if len(temp_df) >= 40:\n",
    "        pre_train_x.append(temp_df[features].to_numpy())\n",
    "        pre_train_y.append(temp_df[label].to_numpy())"
   ]
  },
  {
   "cell_type": "code",
   "execution_count": 17,
   "metadata": {},
   "outputs": [],
   "source": [
    "# All of the hurricanes paths need to be the same length\n",
    "# We can use a kera tool to do this.\n",
    "def pad_sequence(data):\n",
    "    padded = pad_sequences(\n",
    "        sequences=data,\n",
    "        maxlen=50,\n",
    "        dtype='object',\n",
    "        padding='post',\n",
    "        truncating='pre',\n",
    "        value=0.0\n",
    "    )\n",
    "                   \n",
    "    return padded\n",
    "\n",
    "# Build the layer structures of the RNN\n",
    "def build_structure():\n",
    "    model = Sequential()\n",
    "    \n",
    "    model.add(LSTM(\n",
    "        units=1000,\n",
    "        input_shape=(50, 5),\n",
    "        activation='tanh', \n",
    "        recurrent_activation='hard_sigmoid', \n",
    "        return_sequences=True,\n",
    "        dropout=0.2,\n",
    "        recurrent_dropout=0.2\n",
    "    ))\n",
    "    \n",
    "    model.add(LSTM(\n",
    "        units=500,\n",
    "        input_shape=(50, 5),\n",
    "        activation='tanh', \n",
    "        recurrent_activation='hard_sigmoid', \n",
    "        return_sequences=True,\n",
    "        dropout=0.1,\n",
    "        recurrent_dropout=0.1\n",
    "    ))\n",
    "    \n",
    "    model.add(LSTM(\n",
    "        units=250,\n",
    "        input_shape=(50, 5),\n",
    "        activation='tanh', \n",
    "        recurrent_activation='hard_sigmoid', \n",
    "        return_sequences=True,\n",
    "        dropout=0.1,\n",
    "        recurrent_dropout=0.1\n",
    "    ))\n",
    "\n",
    "    model.add(Dense(\n",
    "        units=n_classes, \n",
    "        activation='sigmoid'\n",
    "    ))\n",
    "\n",
    "    # Output layer\n",
    "    model.add(Dense(\n",
    "        units=n_classes, \n",
    "        activation='softmax'\n",
    "    ))\n",
    "\n",
    "    model.compile(\n",
    "        loss='sparse_categorical_crossentropy', \n",
    "        optimizer='Adagrad',\n",
    "        metrics=['accuracy']\n",
    "    )\n",
    "    \n",
    "    return model"
   ]
  },
  {
   "cell_type": "code",
   "execution_count": 6,
   "metadata": {},
   "outputs": [],
   "source": [
    "post_train_x = pad_sequence(data=pre_train_x)\n",
    "post_train_y = pad_sequence(data=pre_train_y)\n",
    "post_train_y = post_train_y.reshape(\n",
    "    np.shape(pre_train_x)[0], 50, 1\n",
    ")\n",
    "post_test_x = pad_sequence(data=pre_test_x)\n",
    "post_test_y = pad_sequence(data=pre_test_y)\n",
    "post_test_y = post_test_y.reshape(1, 50, 1)"
   ]
  },
  {
   "cell_type": "code",
   "execution_count": null,
   "metadata": {},
   "outputs": [],
   "source": [
    "model = build_structure()\n",
    "model.fit(\n",
    "    x=post_train_x,\n",
    "    y=post_train_y,\n",
    "    epochs=10,\n",
    "    verbose=2,\n",
    "    validation_split=0.2\n",
    ")"
   ]
  },
  {
   "cell_type": "code",
   "execution_count": 12,
   "metadata": {},
   "outputs": [
    {
     "data": {
      "text/plain": [
       "array([[5399, 7627, 7627, 7627, 6699,    0,    0,    0,    0,    0,    0,\n",
       "           0,    0,    0,    0,    0,    0,    0,    0,    0,    0,    0,\n",
       "           0,    0,    0,    0,    0,    0,    0,    0,    0,    0,    0,\n",
       "           0,    0,    0,    0,    0,    0,    0,    0,    0,    0,    0,\n",
       "           0,    0,    0,    0,    0,    0]])"
      ]
     },
     "execution_count": 12,
     "metadata": {},
     "output_type": "execute_result"
    }
   ],
   "source": [
    "model.predict_classes(post_test_x)"
   ]
  }
 ],
 "metadata": {
  "kernelspec": {
   "display_name": "Python 3",
   "language": "python",
   "name": "python3"
  },
  "language_info": {
   "codemirror_mode": {
    "name": "ipython",
    "version": 3
   },
   "file_extension": ".py",
   "mimetype": "text/x-python",
   "name": "python",
   "nbconvert_exporter": "python",
   "pygments_lexer": "ipython3",
   "version": "3.7.3"
  }
 },
 "nbformat": 4,
 "nbformat_minor": 4
}
